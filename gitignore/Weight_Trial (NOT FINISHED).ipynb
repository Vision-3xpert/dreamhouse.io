{
 "cells": [
  {
   "cell_type": "code",
   "execution_count": 1,
   "metadata": {},
   "outputs": [],
   "source": [
    "from selenium import webdriver\n",
    "from bs4 import BeautifulSoup\n",
    "import math\n",
    "\n",
    "import time\n",
    "import pandas as pd\n",
    "import folium as fl\n",
    "import requests\n",
    "import geopandas as gpd\n",
    "from geopy.geocoders import Nominatim\n",
    "from geopy.exc import GeocoderTimedOut, GeocoderUnavailable, GeocoderQuotaExceeded\n",
    "from geopy.extra.rate_limiter import RateLimiter\n",
    "import re"
   ]
  },
  {
   "cell_type": "code",
   "execution_count": 156,
   "metadata": {},
   "outputs": [
    {
     "name": "stdout",
     "output_type": "stream",
     "text": [
      "5076\n"
     ]
    }
   ],
   "source": [
    "houses = pd.read_csv(\"Export/Propriétés_map.csv\")\n",
    "Communities = pd.read_csv(\"Export/Communitycenters.csv\")\n",
    "Mairies = pd.read_csv(\"Export/Mairies.csv\")\n",
    "Parcs = pd.read_csv(\"Export/Parcs.csv\")\n",
    "Sportscenters = pd.read_csv(\"Export/Sportscenters.csv\")\n",
    "Demo = pd.read_csv(\"CSVs/TEMPLATE.csv\")\n",
    "Superficie = pd.read_csv(\"CSVs/Superficie_quartier.csv\")\n",
    "houses\n",
    "\n",
    "for i,r in houses.iterrows():\n",
    "    if pd.isna(r[\"NOM\"]):\n",
    "        print(r[\"Addresse\"])\n",
    "    #df['point'] = df['location'].apply(lambda loc: tuple(loc.point) if loc else None)\n",
    "\n",
    "\n"
   ]
  },
  {
   "cell_type": "code",
   "execution_count": 51,
   "metadata": {},
   "outputs": [
    {
     "name": "stdout",
     "output_type": "stream",
     "text": [
      "car_score           6.68\n",
      "cafe_score          6.60\n",
      "walk_score          8.77\n",
      "park_score          8.50\n",
      "quiet_score         6.32\n",
      "cycling_score       4.59\n",
      "transit_score       8.65\n",
      "vibrant_score       5.12\n",
      "daycares_score      8.56\n",
      "primary_score       9.30\n",
      "shopping_score      8.87\n",
      "groceries_score     7.27\n",
      "nightlife_score     4.85\n",
      "restaurant_score    7.85\n",
      "Name: Westmount, dtype: float64\n",
      "['Ahuntsic-Cartierville', 'Anjou', \"Baie-d'Urfé\", 'Beaconsfield', 'Côte-Saint-Luc', 'Côte-des-Neiges-Notre-Dame-de-Grâce', 'Dollard-des-Ormeaux', 'Dorval', 'Hampstead', 'Kirkland', \"L'Île-Bizard-Sainte-Geneviève\", 'LaSalle', 'Lachine', 'Le Plateau-Mont-Royal', 'Le Sud-Ouest', 'Mercier-Hochelaga-Maisonneuve', 'Montréal-Est', 'Montréal-Nord', 'Montréal-Ouest', 'Outremont', 'Pierrefonds-Roxboro', 'Pointe-Claire', 'Rivière-des-Prairies-Pointe-aux-Trembles', 'Rosemont-La Petite-Patrie', 'Saint-Laurent', 'Saint-Léonard', 'Sainte-Anne-de-Bellevue', 'Verdun', 'Ville-Marie', 'Villeray-Saint-Michel-Parc-Extension', 'Westmount']\n"
     ]
    }
   ],
   "source": [
    "test = houses.groupby(\"NOM\").mean().round(2)\n",
    "\n",
    "quartier_liste = [i for i,r in test.iterrows()]\n",
    "my_dict = {i:r[:0-3] for i,r in test.iterrows()}\n"
   ]
  },
  {
   "cell_type": "code",
   "execution_count": 50,
   "metadata": {},
   "outputs": [
    {
     "name": "stdout",
     "output_type": "stream",
     "text": [
      "{'Ahuntsic-Cartierville': 57.0, 'Anjou': 61.0, \"Baie-d'Urfé\": 50.0, 'Beaconsfield': 52.0, 'Côte-Saint-Luc': 54.0, 'Côte-des-Neiges-Notre-Dame-de-Grâce': 55.0, 'Dollard-des-Ormeaux': 52.0, 'Dorval': 60.0, 'Hampstead': 54.0, 'Kirkland': 68.0, \"L'Île-Bizard-Sainte-Geneviève\": 60.0, 'LaSalle': 59.0, 'Lachine': 57.0, 'Le Plateau-Mont-Royal': 62.0, 'Le Sud-Ouest': 54.0, 'Mercier-Hochelaga-Maisonneuve': 53.0, 'Montréal-Est': 54.0, 'Montréal-Nord': 52.0, 'Montréal-Ouest': 56.0, 'Outremont': 55.0, 'Pierrefonds-Roxboro': 59.0, 'Pointe-Claire': 62.0, 'Rivière-des-Prairies-Pointe-aux-Trembles': 60.0, 'Rosemont-La Petite-Patrie': 50.0, 'Saint-Laurent': 57.0, 'Saint-Léonard': 56.0, 'Sainte-Anne-de-Bellevue': 39.0, 'Verdun': 61.0, 'Ville-Marie': 53.0, 'Villeray-Saint-Michel-Parc-Extension': 49.0, 'Westmount': 59.0}\n"
     ]
    }
   ],
   "source": [
    "café = int(input(\"How often often do you drink coffee per week?\"))\n",
    "car = int(input(\"How often often do you drink coffee per week?\"))\n",
    "quiet = int(input(\"How often often do you drink coffee per week?\"))\n",
    "Total_score = []\n",
    "Quartier_liste = []\n",
    "Recommandations = {}\n",
    "for k,v in my_dict.items():\n",
    "    Quartier_liste.append(k)\n",
    "café_score = []\n",
    "car_score = []\n",
    "quiet_score = []\n",
    "for i in quartier_liste:\n",
    "    café_score.append(café*my_dict[i][1])\n",
    "    car_score.append(car*my_dict[i][0])\n",
    "    quiet_score.append(quiet*my_dict[i][4])\n",
    "    Total_score.append(round(café*my_dict[i][1]+car*my_dict[i][0]+quiet*my_dict[i][4],0))\n",
    "\n",
    "Recommandations = {Quartier_liste[i]: Total_score[i] for i in range(len(Total_score))}\n",
    "print(Recommandations)"
   ]
  },
  {
   "cell_type": "code",
   "execution_count": 90,
   "metadata": {},
   "outputs": [
    {
     "name": "stdout",
     "output_type": "stream",
     "text": [
      "{'Ville1': {'restaurant': 6.666666666666668, 'parcs': 4.999999999999999}, 'Ville2': {'restaurant': 0.0, 'parcs': 3.7499999999999996}, 'Ville3': {'restaurant': 5.000000000000001, 'parcs': 10.0}, 'Ville4': {'restaurant': 10.0, 'parcs': 0.0}}\n"
     ]
    }
   ],
   "source": [
    "import numpy as np\n",
    "\n",
    "scores = {\n",
    "    \"Ville1\": {\"restaurant\": 40, \"parcs\": 50},\n",
    "    \"Ville2\": {\"restaurant\": 20, \"parcs\": 40},\n",
    "    \"Ville3\": {\"restaurant\": 35, \"parcs\": 90},\n",
    "    \"Ville4\": {\"restaurant\": 50, \"parcs\": 10}\n",
    "}\n",
    "\n",
    "# Standardisation des scores\n",
    "mean = np.mean([scores[k][c] for k in scores for c in scores[k]])\n",
    "std = np.std([scores[k][c] for k in scores for c in scores[k]])\n",
    "\n",
    "for k in scores:\n",
    "    for c in scores[k]:\n",
    "        scores[k][c] = (scores[k][c] - mean) / std\n",
    "\n",
    "# Normalisation des scores sur une échelle de 0 à 10\n",
    "for c in scores[\"Ville1\"]:\n",
    "    min_c = min(scores[k][c] for k in scores)\n",
    "    max_c = max(scores[k][c] for k in scores)\n",
    "    for k in scores:\n",
    "        scores[k][c] = (scores[k][c] - min_c) / (max_c - min_c) * 10\n",
    "\n",
    "print(scores)\n"
   ]
  },
  {
   "cell_type": "code",
   "execution_count": 94,
   "metadata": {},
   "outputs": [
    {
     "ename": "ValueError",
     "evalue": "min() arg is an empty sequence",
     "output_type": "error",
     "traceback": [
      "\u001b[1;31m---------------------------------------------------------------------------\u001b[0m",
      "\u001b[1;31mValueError\u001b[0m                                Traceback (most recent call last)",
      "\u001b[1;32mc:\\Users\\thier\\OneDrive\\Desktop\\Projet_intégrateur\\V1.ipynb Cell 9\u001b[0m in \u001b[0;36m<cell line: 19>\u001b[1;34m()\u001b[0m\n\u001b[0;32m     <a href='vscode-notebook-cell:/c%3A/Users/thier/OneDrive/Desktop/Projet_int%C3%A9grateur/V1.ipynb#X11sZmlsZQ%3D%3D?line=17'>18</a>\u001b[0m \u001b[39m# Normalisation des scores pour chaque critère sur une échelle de 0 à 10\u001b[39;00m\n\u001b[0;32m     <a href='vscode-notebook-cell:/c%3A/Users/thier/OneDrive/Desktop/Projet_int%C3%A9grateur/V1.ipynb#X11sZmlsZQ%3D%3D?line=18'>19</a>\u001b[0m \u001b[39mfor\u001b[39;00m c \u001b[39min\u001b[39;00m weights:\n\u001b[1;32m---> <a href='vscode-notebook-cell:/c%3A/Users/thier/OneDrive/Desktop/Projet_int%C3%A9grateur/V1.ipynb#X11sZmlsZQ%3D%3D?line=19'>20</a>\u001b[0m     min_score \u001b[39m=\u001b[39m \u001b[39mmin\u001b[39;49m(critere_scores[c]\u001b[39m.\u001b[39;49mvalues())\n\u001b[0;32m     <a href='vscode-notebook-cell:/c%3A/Users/thier/OneDrive/Desktop/Projet_int%C3%A9grateur/V1.ipynb#X11sZmlsZQ%3D%3D?line=20'>21</a>\u001b[0m     max_score \u001b[39m=\u001b[39m \u001b[39mmax\u001b[39m(critere_scores[c]\u001b[39m.\u001b[39mvalues())\n\u001b[0;32m     <a href='vscode-notebook-cell:/c%3A/Users/thier/OneDrive/Desktop/Projet_int%C3%A9grateur/V1.ipynb#X11sZmlsZQ%3D%3D?line=21'>22</a>\u001b[0m     \u001b[39mfor\u001b[39;00m k \u001b[39min\u001b[39;00m scores:\n",
      "\u001b[1;31mValueError\u001b[0m: min() arg is an empty sequence"
     ]
    }
   ],
   "source": [
    "import numpy as np\n",
    "\n",
    "scores = {\n",
    "    \"Quartier1\": {\"restaurant\": 30, \"parc\": 20, \"ecole\": 10, \"superficie\": 2},\n",
    "    \"Quartier2\": {\"restaurant\": 50, \"parc\": 40, \"ecole\": 5, \"superficie\": 50},\n",
    "    \"Quartier3\": {\"restaurant\": 20, \"parc\": 10, \"ecole\": 30, \"superficie\": 5},\n",
    "    \"Quartier4\": {\"restaurant\": 40, \"parc\": 30, \"ecole\": 20, \"superficie\": 10}\n",
    "}\n",
    "\n",
    "# Pondération des scores\n",
    "weights = {\"restaurant\": 0.7, \"parc\": 0.7, \"ecole\": 0.7, \"superficie\": 0.3}\n",
    "critere_scores = {c: {} for c in weights}\n",
    "for k in scores:\n",
    "    for c in scores[k]:\n",
    "        if c != \"superficie\":\n",
    "            critere_scores[c][k] = weights[c] * scores[k][c]\n",
    "\n",
    "# Normalisation des scores pour chaque critère sur une échelle de 0 à 10\n",
    "for c in weights:\n",
    "    min_score = min(critere_scores[c].values())\n",
    "    max_score = max(critere_scores[c].values())\n",
    "    for k in scores:\n",
    "        if c in scores[k]:\n",
    "            scores[k][c + \"_score\"] = (critere_scores[c][k] - min_score) / (max_score - min_score) * 10\n",
    "\n",
    "print(scores)\n",
    "\n"
   ]
  },
  {
   "cell_type": "code",
   "execution_count": 100,
   "metadata": {},
   "outputs": [
    {
     "ename": "TypeError",
     "evalue": "unsupported operand type(s) for -: 'dict' and 'float'",
     "output_type": "error",
     "traceback": [
      "\u001b[1;31m---------------------------------------------------------------------------\u001b[0m",
      "\u001b[1;31mTypeError\u001b[0m                                 Traceback (most recent call last)",
      "\u001b[1;32mc:\\Users\\thier\\OneDrive\\Desktop\\Projet_intégrateur\\V1.ipynb Cell 10\u001b[0m in \u001b[0;36m<cell line: 30>\u001b[1;34m()\u001b[0m\n\u001b[0;32m     <a href='vscode-notebook-cell:/c%3A/Users/thier/OneDrive/Desktop/Projet_int%C3%A9grateur/V1.ipynb#X12sZmlsZQ%3D%3D?line=35'>36</a>\u001b[0m         normalized_score \u001b[39m=\u001b[39m (score[feature] \u001b[39m-\u001b[39m min_score) \u001b[39m/\u001b[39m (max_score \u001b[39m-\u001b[39m min_score) \u001b[39m*\u001b[39m \u001b[39m10\u001b[39m\n\u001b[0;32m     <a href='vscode-notebook-cell:/c%3A/Users/thier/OneDrive/Desktop/Projet_int%C3%A9grateur/V1.ipynb#X12sZmlsZQ%3D%3D?line=36'>37</a>\u001b[0m         normalized_scores[feature][ville] \u001b[39m=\u001b[39m normalized_score\n\u001b[1;32m---> <a href='vscode-notebook-cell:/c%3A/Users/thier/OneDrive/Desktop/Projet_int%C3%A9grateur/V1.ipynb#X12sZmlsZQ%3D%3D?line=37'>38</a>\u001b[0m         normalized_score \u001b[39m=\u001b[39m (score \u001b[39m-\u001b[39;49m min_score) \u001b[39m/\u001b[39m (max_score \u001b[39m-\u001b[39m min_score) \u001b[39m*\u001b[39m \u001b[39m10\u001b[39m\n\u001b[0;32m     <a href='vscode-notebook-cell:/c%3A/Users/thier/OneDrive/Desktop/Projet_int%C3%A9grateur/V1.ipynb#X12sZmlsZQ%3D%3D?line=39'>40</a>\u001b[0m \u001b[39mprint\u001b[39m(normalized_scores)\n",
      "\u001b[1;31mTypeError\u001b[0m: unsupported operand type(s) for -: 'dict' and 'float'"
     ]
    }
   ],
   "source": [
    "data = {\n",
    "    'Ville1': {'restaurant': 40, 'parcs': 50, 'ecoles': 20, 'superficie': 10},\n",
    "    'Ville2': {'restaurant': 20, 'parcs': 40, 'ecoles': 30, 'superficie': 5},\n",
    "    'Ville3': {'restaurant': 35, 'parcs': 60, 'ecoles': 15, 'superficie': 20},\n",
    "    'Ville4': {'restaurant': 50, 'parcs': 10, 'ecoles': 15, 'superficie': 15}\n",
    "}\n",
    "\n",
    "max_values = {}\n",
    "total_area = 0\n",
    "for ville, features in data.items():\n",
    "    total_area += features['superficie']\n",
    "    for feature, value in features.items():\n",
    "        if feature != 'superficie':\n",
    "            max_values[feature] = max(max_values.get(feature, 0), value)\n",
    "\n",
    "scores = {}\n",
    "for ville, features in data.items():\n",
    "    total_score = 0\n",
    "    for feature, value in features.items():\n",
    "        if feature == 'superficie':\n",
    "            total_score += 0.3 * value / total_area\n",
    "        else:\n",
    "            score = 0.7 * value / max_values[feature]\n",
    "            scores[ville] = scores.get(ville, {})\n",
    "            scores[ville][feature] = score\n",
    "            total_score += score\n",
    "    scores[ville]['total_score'] = total_score\n",
    "\n",
    "normalized_scores = {}\n",
    "for feature in max_values:\n",
    "    normalized_scores[feature] = {}\n",
    "    feature_scores = [scores[ville][feature] for ville in data]\n",
    "    max_score = max(feature_scores)\n",
    "    min_score = min(feature_scores)\n",
    "    for ville, score in scores.items():\n",
    "        normalized_score = (score[feature] - min_score) / (max_score - min_score) * 10\n",
    "        normalized_scores[feature][ville] = normalized_score\n",
    "  #      normalized_score = (score - min_score) / (max_score - min_score) * 10\n",
    "\n",
    "print(normalized_scores)\n"
   ]
  },
  {
   "cell_type": "code",
   "execution_count": 117,
   "metadata": {},
   "outputs": [],
   "source": [
    "def normalize_scores(data):\n",
    "    categories = [\"restaurant\", \"parcs\", \"ecoles\", \"superficie\"]\n",
    "    weights = {\"restaurant\": 0.7, \"parcs\": 0.7, \"ecoles\": 0.7, \"superficie\": 0.3}\n",
    "\n",
    "    # Calculate the minimum and maximum scores for each category\n",
    "    min_scores = {category: min(data, key=lambda x: data[x].get(category, float('inf')))[category] for category in categories}\n",
    "    max_scores = {category: max(data, key=lambda x: data[x].get(category, float('-inf')))[category] for category in categories}\n",
    "\n",
    "    # Calculate the weighted total score for each area\n",
    "    for city in data:\n",
    "        total_score = 0\n",
    "        for category in categories:\n",
    "            score = data[city][category]\n",
    "            normalized_score = (score - min_scores[category]) / (max_scores[category] - min_scores[category])\n",
    "            total_score += normalized_score * weights[category]\n",
    "        data[city][\"score\"] = total_score\n",
    "\n",
    "    return data\n"
   ]
  },
  {
   "cell_type": "code",
   "execution_count": null,
   "metadata": {},
   "outputs": [],
   "source": []
  }
 ],
 "metadata": {
  "kernelspec": {
   "display_name": "Python 3",
   "language": "python",
   "name": "python3"
  },
  "language_info": {
   "codemirror_mode": {
    "name": "ipython",
    "version": 3
   },
   "file_extension": ".py",
   "mimetype": "text/x-python",
   "name": "python",
   "nbconvert_exporter": "python",
   "pygments_lexer": "ipython3",
   "version": "3.10.5"
  },
  "orig_nbformat": 4,
  "vscode": {
   "interpreter": {
    "hash": "975009d07ecb89591f421a82b28366f5e95ebda4302b5da20f317cfbfc51cb08"
   }
  }
 },
 "nbformat": 4,
 "nbformat_minor": 2
}
